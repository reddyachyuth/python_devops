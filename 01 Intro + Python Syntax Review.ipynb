{
 "cells": [
  {
   "cell_type": "markdown",
   "metadata": {
    "collapsed": false,
    "slideshow": {
     "slide_type": "slide"
    }
   },
   "source": [
    "![alt-text](DILogo.jpg \"logo\")"
   ]
  },
  {
   "cell_type": "markdown",
   "metadata": {
    "collapsed": true,
    "slideshow": {
     "slide_type": "subslide"
    }
   },
   "source": [
    "# Intermediate Python\n",
    "\n",
    "Dave Wade-Stein  \n",
    "dws@developintelligence.com  \n",
    "Class time: 9-5  \n",
    "Lunch: 11:45-12:45  \n",
    "5-10 min. break per hour\n"
   ]
  },
  {
   "cell_type": "markdown",
   "metadata": {
    "slideshow": {
     "slide_type": "notes"
    }
   },
   "source": [
    "### Use left button for presentation...the right button doesn't permit scrolling\n",
    "### Hit control-command-F to switch to full-screen mode\n",
    "### Use ',' in command mode to toggle help/exit buttons"
   ]
  },
  {
   "cell_type": "markdown",
   "metadata": {
    "slideshow": {
     "slide_type": "subslide"
    }
   },
   "source": [
    "# Before we begin, be sure you have Python 3 installed!\n",
    "1. install Python 3 if you have not already\n",
    " * go to https://www.python.org/downloads/\n",
    " * Macs have 2.7.X installed by default–it’s OK to have Python 2 and 3 co-resident\n",
    "* install Jupyter (__`sudo pip3 install jupyter`__)\n",
    "* this will allow you to run/edit Jupyter notebooks locally\n",
    "  * if you're having trouble installing Jupyter, the notebooks can be run/edited at http://tmpnb.org\n",
    "* I recommend you work in a Jupyter notebook, IDLE, or PyCharm\n"
   ]
  },
  {
   "cell_type": "markdown",
   "metadata": {
    "collapsed": false,
    "slideshow": {
     "slide_type": "slide"
    }
   },
   "source": [
    "# Python Syntax Review"
   ]
  },
  {
   "cell_type": "markdown",
   "metadata": {
    "slideshow": {
     "slide_type": "subslide"
    }
   },
   "source": [
    "## *Dynamic* typing, no declarations"
   ]
  },
  {
   "cell_type": "code",
   "execution_count": 17,
   "metadata": {
    "collapsed": false
   },
   "outputs": [
    {
     "name": "stdout",
     "output_type": "stream",
     "text": [
      "3.9\n",
      "Python\n"
     ]
    }
   ],
   "source": [
    "x = 3.9\n",
    "print(x)\n",
    "x = \"Python\"\n",
    "print(x)"
   ]
  },
  {
   "cell_type": "markdown",
   "metadata": {
    "slideshow": {
     "slide_type": "subslide"
    }
   },
   "source": [
    "## ...but strongly typed"
   ]
  },
  {
   "cell_type": "code",
   "execution_count": 18,
   "metadata": {
    "collapsed": false
   },
   "outputs": [
    {
     "data": {
      "text/plain": [
       "'hello1'"
      ]
     },
     "execution_count": 18,
     "metadata": {},
     "output_type": "execute_result"
    }
   ],
   "source": [
    "x = 'hello'\n",
    "y = x + str(1)\n",
    "#y = x + 1\n",
    "y"
   ]
  },
  {
   "cell_type": "code",
   "execution_count": 8,
   "metadata": {
    "collapsed": false,
    "slideshow": {
     "slide_type": "-"
    }
   },
   "outputs": [
    {
     "name": "stdout",
     "output_type": "stream",
     "text": [
      "3\n",
      "hello\n"
     ]
    }
   ],
   "source": [
    "def func(arg):\n",
    "    return arg + 1\n",
    "\n",
    "print(func(2))\n",
    "#print(func('hi'))\n",
    "print('hello')"
   ]
  },
  {
   "cell_type": "markdown",
   "metadata": {
    "slideshow": {
     "slide_type": "subslide"
    }
   },
   "source": [
    "## if/elif/else"
   ]
  },
  {
   "cell_type": "code",
   "execution_count": 1,
   "metadata": {
    "collapsed": true
   },
   "outputs": [
    {
     "name": "stdout",
     "output_type": "stream",
     "text": [
      "hey, x is 1\n"
     ]
    }
   ],
   "source": [
    "x = 1\n",
    "\n",
    "if x == 1: # no parens needed around expression\n",
    "    print('hey, x is 1')\n",
    "elif x < 10:\n",
    "    print('x is less than 10 and not 1')\n",
    "else:\n",
    "    print('x >= 10')\n",
    "        "
   ]
  },
  {
   "cell_type": "markdown",
   "metadata": {
    "slideshow": {
     "slide_type": "subslide"
    }
   },
   "source": [
    "## Functions"
   ]
  },
  {
   "cell_type": "code",
   "execution_count": 7,
   "metadata": {
    "collapsed": false
   },
   "outputs": [
    {
     "name": "stdout",
     "output_type": "stream",
     "text": [
      "do something 1\n",
      "True\n"
     ]
    }
   ],
   "source": [
    "def myfunc(x):\n",
    "    print('do something', x)\n",
    "    return True\n",
    "    \n",
    "print(myfunc(1)),"
   ]
  },
  {
   "cell_type": "code",
   "execution_count": 8,
   "metadata": {
    "collapsed": false
   },
   "outputs": [
    {
     "name": "stdout",
     "output_type": "stream",
     "text": [
      "do something 35\n",
      "None\n"
     ]
    }
   ],
   "source": [
    "def myfunc(x):\n",
    "    print('do something', x)\n",
    "    \n",
    "print(myfunc(35)) # functions return None if return not invoked"
   ]
  },
  {
   "cell_type": "code",
   "execution_count": 15,
   "metadata": {
    "collapsed": false
   },
   "outputs": [
    {
     "data": {
      "text/plain": [
       "(4297223216, 4297151296)"
      ]
     },
     "execution_count": 15,
     "metadata": {},
     "output_type": "execute_result"
    }
   ],
   "source": [
    "if None is False:\n",
    "    print('no!')\n",
    "id(None), id(False)"
   ]
  },
  {
   "cell_type": "markdown",
   "metadata": {
    "slideshow": {
     "slide_type": "subslide"
    }
   },
   "source": [
    "## for loops"
   ]
  },
  {
   "cell_type": "code",
   "execution_count": 16,
   "metadata": {
    "collapsed": false
   },
   "outputs": [
    {
     "name": "stdout",
     "output_type": "stream",
     "text": [
      "0 1 2 3 4 5 6 7 8 9 10 11 12 13 14 15 16 17 18 19 20 21 22 23 24 "
     ]
    }
   ],
   "source": [
    "for num in range(0, 25):\n",
    "    print(num, end=' ')"
   ]
  },
  {
   "cell_type": "code",
   "execution_count": 17,
   "metadata": {
    "collapsed": false
   },
   "outputs": [
    {
     "name": "stdout",
     "output_type": "stream",
     "text": [
      "small medium large "
     ]
    }
   ],
   "source": [
    "mylist = 'small medium large'.split()\n",
    "for size in mylist:\n",
    "    print(size, end = ' ')"
   ]
  },
  {
   "cell_type": "markdown",
   "metadata": {
    "slideshow": {
     "slide_type": "subslide"
    }
   },
   "source": [
    "## Scope (Python is NOT block scoped)"
   ]
  },
  {
   "cell_type": "code",
   "execution_count": 29,
   "metadata": {
    "collapsed": false,
    "slideshow": {
     "slide_type": "subslide"
    }
   },
   "outputs": [
    {
     "name": "stdout",
     "output_type": "stream",
     "text": [
      "outside the block, x = global x\n",
      "---> in func\n",
      "x = func x\n",
      "local x = func x\n",
      "global x = global x\n",
      "---> leaving func\n",
      "in main, after func call, x = global x\n",
      "---> inside second func\n",
      "x = new global x\n",
      "---> leaving second func, x = new global x\n",
      "in main, after second fu`nc call, x = new global x\n"
     ]
    }
   ],
   "source": [
    "if True:\n",
    "    x = 'global x' # Python is not block scoped\n",
    "\n",
    "print(\"outside the block, x =\", x)\n",
    "\n",
    "def func():\n",
    "    print(\"---> in func\")\n",
    "    x = 'func x' # declare var inside function\n",
    "    print(\"x =\", x)\n",
    "    d = locals()\n",
    "    print(\"local x =\", d['x'])\n",
    "    d = globals()\n",
    "    print(\"global x =\", d['x'])\n",
    "    print(\"---> leaving func\")\n",
    "\n",
    "func()\n",
    "\n",
    "print(\"in main, after func call, x =\", x)\n",
    "\n",
    "def func():\n",
    "    print(\"---> inside second func\")\n",
    "    # can access global variables here\n",
    "    # print(\"x =\", x)\n",
    "    # ...but to change them, we need to bind\n",
    "    # the name 'x' to the global var instead\n",
    "    # of a new local var...\n",
    "    global x\n",
    "    x = 'new global x'\n",
    "    print(\"x =\", x)\n",
    "    print(\"---> leaving second func, x =\", x)\n",
    "\n",
    "func()\n",
    "print(\"in main, after second func call, x =\", x)"
   ]
  },
  {
   "cell_type": "markdown",
   "metadata": {
    "slideshow": {
     "slide_type": "subslide"
    }
   },
   "source": [
    "## Modules"
   ]
  },
  {
   "cell_type": "code",
   "execution_count": 19,
   "metadata": {
    "collapsed": false,
    "slideshow": {
     "slide_type": "subslide"
    }
   },
   "outputs": [
    {
     "name": "stdout",
     "output_type": "stream",
     "text": [
      "success\n"
     ]
    }
   ],
   "source": [
    "# this code lives in mymodule.py\n",
    "def dummy():\n",
    "    return 45\n",
    "   \n",
    "public_data = \"public stuff!\"\n",
    "_private_data = \"private stuff!\"\n",
    "\n",
    "# If this code is being *run*, then __name__ will be '__main__'\n",
    "if __name__ == '__main__':\n",
    "    # test dummy\n",
    "    if dummy() == 45:\n",
    "        print('success')"
   ]
  },
  {
   "cell_type": "code",
   "execution_count": 7,
   "metadata": {
    "collapsed": false
   },
   "outputs": [
    {
     "name": "stdout",
     "output_type": "stream",
     "text": [
      "success\r\n"
     ]
    }
   ],
   "source": [
    "!python3 mymodule.py\n",
    "# The above runs a command in the shell, outside of the notebook"
   ]
  },
  {
   "cell_type": "code",
   "execution_count": 4,
   "metadata": {
    "collapsed": false
   },
   "outputs": [
    {
     "data": {
      "text/plain": [
       "45"
      ]
     },
     "execution_count": 4,
     "metadata": {},
     "output_type": "execute_result"
    }
   ],
   "source": [
    "import mymodule\n",
    "mymodule.dummy()"
   ]
  },
  {
   "cell_type": "code",
   "execution_count": 20,
   "metadata": {
    "collapsed": false
   },
   "outputs": [
    {
     "data": {
      "text/plain": [
       "['In',\n",
       " 'Out',\n",
       " '_',\n",
       " '_12',\n",
       " '_15',\n",
       " '_18',\n",
       " '_4',\n",
       " '_5',\n",
       " '__',\n",
       " '___',\n",
       " '__builtin__',\n",
       " '__builtins__',\n",
       " '__doc__',\n",
       " '__loader__',\n",
       " '__name__',\n",
       " '__package__',\n",
       " '__spec__',\n",
       " '_dh',\n",
       " '_exit_code',\n",
       " '_i',\n",
       " '_i1',\n",
       " '_i10',\n",
       " '_i11',\n",
       " '_i12',\n",
       " '_i13',\n",
       " '_i14',\n",
       " '_i15',\n",
       " '_i16',\n",
       " '_i17',\n",
       " '_i18',\n",
       " '_i19',\n",
       " '_i2',\n",
       " '_i20',\n",
       " '_i3',\n",
       " '_i4',\n",
       " '_i5',\n",
       " '_i6',\n",
       " '_i7',\n",
       " '_i8',\n",
       " '_i9',\n",
       " '_ih',\n",
       " '_ii',\n",
       " '_iii',\n",
       " '_oh',\n",
       " '_private_data',\n",
       " '_sh',\n",
       " 'd',\n",
       " 'dummy',\n",
       " 'exit',\n",
       " 'get_ipython',\n",
       " 'keys',\n",
       " 'line',\n",
       " 'linenum',\n",
       " 'mymodule',\n",
       " 'pluralize',\n",
       " 'public_data',\n",
       " 'quit',\n",
       " 're',\n",
       " 'x',\n",
       " 'y']"
      ]
     },
     "execution_count": 20,
     "metadata": {},
     "output_type": "execute_result"
    }
   ],
   "source": [
    "dir()"
   ]
  },
  {
   "cell_type": "code",
   "execution_count": 24,
   "metadata": {
    "collapsed": false
   },
   "outputs": [
    {
     "data": {
      "text/plain": [
       "'private stuff!'"
      ]
     },
     "execution_count": 24,
     "metadata": {},
     "output_type": "execute_result"
    }
   ],
   "source": [
    "mymodule._private_data"
   ]
  },
  {
   "cell_type": "code",
   "execution_count": 26,
   "metadata": {
    "collapsed": false,
    "slideshow": {
     "slide_type": "subslide"
    }
   },
   "outputs": [
    {
     "data": {
      "text/plain": [
       "['In',\n",
       " 'Out',\n",
       " '_',\n",
       " '_13',\n",
       " '_14',\n",
       " '_15',\n",
       " '_18',\n",
       " '_19',\n",
       " '_21',\n",
       " '_22',\n",
       " '_23',\n",
       " '_24',\n",
       " '_25',\n",
       " '_5',\n",
       " '_6',\n",
       " '__',\n",
       " '___',\n",
       " '__builtin__',\n",
       " '__builtins__',\n",
       " '__doc__',\n",
       " '__loader__',\n",
       " '__name__',\n",
       " '__package__',\n",
       " '__spec__',\n",
       " '_dh',\n",
       " '_i',\n",
       " '_i1',\n",
       " '_i10',\n",
       " '_i11',\n",
       " '_i12',\n",
       " '_i13',\n",
       " '_i14',\n",
       " '_i15',\n",
       " '_i16',\n",
       " '_i17',\n",
       " '_i18',\n",
       " '_i19',\n",
       " '_i2',\n",
       " '_i20',\n",
       " '_i21',\n",
       " '_i22',\n",
       " '_i23',\n",
       " '_i24',\n",
       " '_i25',\n",
       " '_i26',\n",
       " '_i3',\n",
       " '_i4',\n",
       " '_i5',\n",
       " '_i6',\n",
       " '_i7',\n",
       " '_i8',\n",
       " '_i9',\n",
       " '_ih',\n",
       " '_ii',\n",
       " '_iii',\n",
       " '_oh',\n",
       " '_private_data',\n",
       " '_sh',\n",
       " 'dummy',\n",
       " 'exit',\n",
       " 'get_ipython',\n",
       " 'myfunc',\n",
       " 'mylist',\n",
       " 'mymodule',\n",
       " 'num',\n",
       " 'o',\n",
       " 'public_data',\n",
       " 'quit',\n",
       " 're',\n",
       " 'size',\n",
       " 'something_else',\n",
       " 'thismodule_data',\n",
       " 'xyz']"
      ]
     },
     "execution_count": 26,
     "metadata": {},
     "output_type": "execute_result"
    }
   ],
   "source": [
    "from mymodule import public_data as thismodule_data\n",
    "dir()"
   ]
  },
  {
   "cell_type": "code",
   "execution_count": 30,
   "metadata": {
    "collapsed": false
   },
   "outputs": [
    {
     "data": {
      "text/plain": [
       "['/foo/bar',\n",
       " '/foo/bar',\n",
       " '',\n",
       " '/Library/Frameworks/Python.framework/Versions/3.5/lib/python35.zip',\n",
       " '/Library/Frameworks/Python.framework/Versions/3.5/lib/python3.5',\n",
       " '/Library/Frameworks/Python.framework/Versions/3.5/lib/python3.5/plat-darwin',\n",
       " '/Library/Frameworks/Python.framework/Versions/3.5/lib/python3.5/lib-dynload',\n",
       " '/Library/Frameworks/Python.framework/Versions/3.5/lib/python3.5/site-packages',\n",
       " '/Library/Frameworks/Python.framework/Versions/3.5/lib/python3.5/site-packages/IPython/extensions',\n",
       " '/Users/dws/.ipython']"
      ]
     },
     "execution_count": 30,
     "metadata": {},
     "output_type": "execute_result"
    }
   ],
   "source": [
    "import sys\n",
    "sys.path.insert(0, '/foo/bar')\n",
    "sys.path"
   ]
  },
  {
   "cell_type": "markdown",
   "metadata": {
    "slideshow": {
     "slide_type": "subslide"
    }
   },
   "source": [
    "## Regular Expressions (regex)"
   ]
  },
  {
   "cell_type": "code",
   "execution_count": 2,
   "metadata": {
    "collapsed": false,
    "slideshow": {
     "slide_type": "subslide"
    }
   },
   "outputs": [
    {
     "name": "stdout",
     "output_type": "stream",
     "text": [
      "match found!\n"
     ]
    }
   ],
   "source": [
    "import re \n",
    "if re.match('a.*b', 'alphabet'):\n",
    "    print('match found!')"
   ]
  },
  {
   "cell_type": "code",
   "execution_count": 3,
   "metadata": {
    "collapsed": true
   },
   "outputs": [],
   "source": [
    "# match() only matches at beginning of string\n",
    "if re.match('l.*b', 'alphabet'):\n",
    "    print('match found!')"
   ]
  },
  {
   "cell_type": "code",
   "execution_count": 21,
   "metadata": {
    "collapsed": false
   },
   "outputs": [
    {
     "name": "stdout",
     "output_type": "stream",
     "text": [
      "match\n",
      "re.compile('l.*e')\n"
     ]
    }
   ],
   "source": [
    "o = re.search('l.*e', 'alphabet')\n",
    "if o:\n",
    "    print('match')\n",
    "    print(o.re)"
   ]
  },
  {
   "cell_type": "code",
   "execution_count": 32,
   "metadata": {
    "collapsed": false
   },
   "outputs": [
    {
     "data": {
      "text/plain": [
       "('l.*e', 'alphabet')"
      ]
     },
     "execution_count": 32,
     "metadata": {},
     "output_type": "execute_result"
    }
   ],
   "source": [
    "o.re.pattern, o.string"
   ]
  },
  {
   "cell_type": "code",
   "execution_count": 33,
   "metadata": {
    "collapsed": false
   },
   "outputs": [
    {
     "data": {
      "text/plain": [
       "(1, 7)"
      ]
     },
     "execution_count": 33,
     "metadata": {},
     "output_type": "execute_result"
    }
   ],
   "source": [
    "o.start(), o.end()"
   ]
  },
  {
   "cell_type": "code",
   "execution_count": 35,
   "metadata": {
    "collapsed": false
   },
   "outputs": [
    {
     "data": {
      "text/plain": [
       "'lphabe'"
      ]
     },
     "execution_count": 35,
     "metadata": {},
     "output_type": "execute_result"
    }
   ],
   "source": [
    "o.string[o.start():o.end()]"
   ]
  },
  {
   "cell_type": "code",
   "execution_count": 10,
   "metadata": {
    "collapsed": false
   },
   "outputs": [
    {
     "name": "stdout",
     "output_type": "stream",
     "text": [
      "5: To where it bent in --- undergrowth;\n",
      "7: Then took --- o---r, as just as fair,\t\n",
      "8: And having perhaps --- better claim,\t\n",
      "10: Though as for that --- passing ---re\t\n",
      "11: Had worn ---m really about --- same,\n",
      "15: Oh, I kept --- first for ano---r day!\t\n",
      "22: I took --- one less traveled by,\t\n",
      "23: And that has made all --- difference.\n"
     ]
    }
   ],
   "source": [
    "import re\n",
    "linenum = 0\n",
    "for line in open('poem.txt'):\n",
    "    linenum += 1\n",
    "    if re.search('the', line):\n",
    "        print('{}: {}'.format(linenum, re.sub('the', '---', line)), end='')"
   ]
  },
  {
   "cell_type": "markdown",
   "metadata": {},
   "source": [
    "* consider a program which takes a word as a command line argument and outputs the plural of that word\n",
    "* the program should follow these rules:\n",
    "  * if the word ends in 's', 'x', or 'z', the plural adds 'es', e.g., ax => axes, loss => losses\n",
    "  * if the word ends in an 'h', which is not preceded by a vowel or 'd', 'g', 'k', 'p', 'r', or 't', the plural adds 'es', e.g., moth => moths, but match => matches\n",
    "  * if the word ends in a 'y' which is not preceded by a vowel, then the plural strips the 'y' and adds 'ies', e.g., baby => babies, but boy => boys\n",
    "  * otherwise just add 's'"
   ]
  },
  {
   "cell_type": "code",
   "execution_count": 11,
   "metadata": {
    "collapsed": true
   },
   "outputs": [],
   "source": [
    "import re\n",
    "\n",
    "def pluralize(noun):\n",
    "    if re.search('[sxz]$', noun):\n",
    "        return noun + 'es'\n",
    "    elif re.search('[^aeioudgkprt]h$', noun):\n",
    "        return noun + 'es'\n",
    "    elif re.search('[^aeiou]y$', noun):\n",
    "        return re.sub('y$', 'ies', noun)\n",
    "    else:\n",
    "        return noun + 's'"
   ]
  },
  {
   "cell_type": "markdown",
   "metadata": {
    "collapsed": false,
    "slideshow": {
     "slide_type": "slide"
    }
   },
   "source": [
    "# Python Datatype Overview"
   ]
  },
  {
   "cell_type": "markdown",
   "metadata": {
    "slideshow": {
     "slide_type": "subslide"
    }
   },
   "source": [
    "## Strings\n",
    "* can use single or double quotes\n",
    "* triple quotes (single or double) allow multi-line strings"
   ]
  },
  {
   "cell_type": "code",
   "execution_count": 5,
   "metadata": {
    "collapsed": false
   },
   "outputs": [
    {
     "name": "stdout",
     "output_type": "stream",
     "text": [
      "The embedded apostrophe isn't a problem!\n",
      "Nor are embedded \"quotes\"\n",
      "This string is \"more difficult\" to read\n"
     ]
    }
   ],
   "source": [
    "s = \"The embedded apostrophe isn't a problem!\"\n",
    "print(s)\n",
    "s = 'Nor are embedded \"quotes\"'\n",
    "print(s)\n",
    "s = \"This string is \\\"more difficult\\\" to read\"\n",
    "print(s)"
   ]
  },
  {
   "cell_type": "code",
   "execution_count": 37,
   "metadata": {
    "collapsed": false
   },
   "outputs": [
    {
     "data": {
      "text/plain": [
       "'A man,\\na plan, \\na canal: Panama'"
      ]
     },
     "execution_count": 37,
     "metadata": {},
     "output_type": "execute_result"
    }
   ],
   "source": [
    "s = '''A man,\n",
    "a plan, \n",
    "a canal: Panama'''\n",
    "s"
   ]
  },
  {
   "cell_type": "code",
   "execution_count": 40,
   "metadata": {
    "collapsed": false
   },
   "outputs": [
    {
     "name": "stdout",
     "output_type": "stream",
     "text": [
      "A man,\n",
      "a plan, \n",
      "a canal: Panama\n"
     ]
    }
   ],
   "source": [
    "print(s)"
   ]
  },
  {
   "cell_type": "markdown",
   "metadata": {
    "slideshow": {
     "slide_type": "subslide"
    }
   },
   "source": [
    "## Lists\n",
    "* ordered\n",
    "* comma-separated values in []\n",
    "* types can be mixed, but typically homogeneous\n",
    "* append(), extend(), pop(), remove()\n",
    "* clear(), copy(), sort(), reverse()\n",
    "* count(), index()"
   ]
  },
  {
   "cell_type": "code",
   "execution_count": 21,
   "metadata": {
    "collapsed": false
   },
   "outputs": [
    {
     "data": {
      "text/plain": [
       "(1620, (3, 4))"
      ]
     },
     "execution_count": 21,
     "metadata": {},
     "output_type": "execute_result"
    }
   ],
   "source": [
    "years = [1215, 1620, 1812, 1941]\n",
    "weird_list = [1, 'two', (3, 4), False]\n",
    "years[1], weird_list[2]"
   ]
  },
  {
   "cell_type": "markdown",
   "metadata": {
    "slideshow": {
     "slide_type": "subslide"
    }
   },
   "source": [
    "## Tuples\n",
    "* immutable\n",
    "* generally imply some structure\n",
    "* one tuple generally describes one object (person, building, country, etc.)\n",
    "* parens not required when declaring"
   ]
  },
  {
   "cell_type": "code",
   "execution_count": 41,
   "metadata": {
    "collapsed": false
   },
   "outputs": [
    {
     "name": "stdout",
     "output_type": "stream",
     "text": [
      "('Gutzon Borglum', 'Idaho', 1867)\n"
     ]
    },
    {
     "ename": "TypeError",
     "evalue": "'tuple' object does not support item assignment",
     "output_type": "error",
     "traceback": [
      "\u001b[0;31m---------------------------------------------------------------------------\u001b[0m",
      "\u001b[0;31mTypeError\u001b[0m                                 Traceback (most recent call last)",
      "\u001b[0;32m<ipython-input-41-94e80856056c>\u001b[0m in \u001b[0;36m<module>\u001b[0;34m()\u001b[0m\n\u001b[1;32m      1\u001b[0m \u001b[0mt\u001b[0m \u001b[0;34m=\u001b[0m \u001b[0;34m'Gutzon Borglum'\u001b[0m\u001b[0;34m,\u001b[0m \u001b[0;34m'Idaho'\u001b[0m\u001b[0;34m,\u001b[0m \u001b[0;36m1867\u001b[0m\u001b[0;34m\u001b[0m\u001b[0m\n\u001b[1;32m      2\u001b[0m \u001b[0mprint\u001b[0m\u001b[0;34m(\u001b[0m\u001b[0mt\u001b[0m\u001b[0;34m)\u001b[0m\u001b[0;34m\u001b[0m\u001b[0m\n\u001b[0;32m----> 3\u001b[0;31m \u001b[0mt\u001b[0m\u001b[0;34m[\u001b[0m\u001b[0;36m1\u001b[0m\u001b[0;34m]\u001b[0m \u001b[0;34m=\u001b[0m \u001b[0;34m'Montana'\u001b[0m\u001b[0;34m\u001b[0m\u001b[0m\n\u001b[0m",
      "\u001b[0;31mTypeError\u001b[0m: 'tuple' object does not support item assignment"
     ]
    }
   ],
   "source": [
    "t = 'Gutzon Borglum', 'Idaho', 1867\n",
    "print(t)\n",
    "t[1] = 'Montana'"
   ]
  },
  {
   "cell_type": "code",
   "execution_count": 23,
   "metadata": {
    "collapsed": false,
    "slideshow": {
     "slide_type": "subslide"
    }
   },
   "outputs": [
    {
     "name": "stdout",
     "output_type": "stream",
     "text": [
      "()\n",
      "(1,)\n"
     ]
    }
   ],
   "source": [
    "# empty tuple\n",
    "t = ()\n",
    "print(t)\n",
    "# singleton tuple\n",
    "t = 1,\n",
    "print(t)"
   ]
  },
  {
   "cell_type": "code",
   "execution_count": 25,
   "metadata": {
    "collapsed": false
   },
   "outputs": [
    {
     "data": {
      "text/plain": [
       "(1, 2)"
      ]
     },
     "execution_count": 25,
     "metadata": {},
     "output_type": "execute_result"
    }
   ],
   "source": [
    "# use case for a singleton tuple: concatenation\n",
    "t + (2,)"
   ]
  },
  {
   "cell_type": "code",
   "execution_count": 31,
   "metadata": {
    "collapsed": false,
    "slideshow": {
     "slide_type": "subslide"
    }
   },
   "outputs": [
    {
     "name": "stdout",
     "output_type": "stream",
     "text": [
      "h e l l o \n",
      "9 \n"
     ]
    },
    {
     "ename": "TypeError",
     "evalue": "'int' object is not iterable",
     "output_type": "error",
     "traceback": [
      "\u001b[0;31m---------------------------------------------------------------------------\u001b[0m",
      "\u001b[0;31mTypeError\u001b[0m                                 Traceback (most recent call last)",
      "\u001b[0;32m<ipython-input-31-e22d29fab091>\u001b[0m in \u001b[0;36m<module>\u001b[0;34m()\u001b[0m\n\u001b[1;32m      8\u001b[0m \u001b[0mfunc\u001b[0m\u001b[0;34m(\u001b[0m\u001b[0;34m'hello'\u001b[0m\u001b[0;34m)\u001b[0m\u001b[0;34m\u001b[0m\u001b[0m\n\u001b[1;32m      9\u001b[0m \u001b[0mfunc\u001b[0m\u001b[0;34m(\u001b[0m\u001b[0;34m(\u001b[0m\u001b[0;36m9\u001b[0m\u001b[0;34m,\u001b[0m\u001b[0;34m)\u001b[0m\u001b[0;34m)\u001b[0m\u001b[0;34m\u001b[0m\u001b[0m\n\u001b[0;32m---> 10\u001b[0;31m \u001b[0mfunc\u001b[0m\u001b[0;34m(\u001b[0m\u001b[0;36m9\u001b[0m\u001b[0;34m)\u001b[0m\u001b[0;34m\u001b[0m\u001b[0m\n\u001b[0m",
      "\u001b[0;32m<ipython-input-31-e22d29fab091>\u001b[0m in \u001b[0;36mfunc\u001b[0;34m(iter)\u001b[0m\n\u001b[1;32m      2\u001b[0m \u001b[0;31m# enables you to pass a single value to a function which takes an iterable\u001b[0m\u001b[0;34m\u001b[0m\u001b[0;34m\u001b[0m\u001b[0m\n\u001b[1;32m      3\u001b[0m \u001b[0;32mdef\u001b[0m \u001b[0mfunc\u001b[0m\u001b[0;34m(\u001b[0m\u001b[0miter\u001b[0m\u001b[0;34m)\u001b[0m\u001b[0;34m:\u001b[0m\u001b[0;34m\u001b[0m\u001b[0m\n\u001b[0;32m----> 4\u001b[0;31m     \u001b[0;32mfor\u001b[0m \u001b[0mitem\u001b[0m \u001b[0;32min\u001b[0m \u001b[0miter\u001b[0m\u001b[0;34m:\u001b[0m\u001b[0;34m\u001b[0m\u001b[0m\n\u001b[0m\u001b[1;32m      5\u001b[0m         \u001b[0mprint\u001b[0m\u001b[0;34m(\u001b[0m\u001b[0mitem\u001b[0m\u001b[0;34m,\u001b[0m \u001b[0mend\u001b[0m\u001b[0;34m=\u001b[0m\u001b[0;34m' '\u001b[0m\u001b[0;34m)\u001b[0m\u001b[0;34m\u001b[0m\u001b[0m\n\u001b[1;32m      6\u001b[0m     \u001b[0mprint\u001b[0m\u001b[0;34m(\u001b[0m\u001b[0;34m)\u001b[0m\u001b[0;34m\u001b[0m\u001b[0m\n",
      "\u001b[0;31mTypeError\u001b[0m: 'int' object is not iterable"
     ]
    }
   ],
   "source": [
    "# another use case for singleton tuple:\n",
    "# enables you to pass a single value to a function which takes an iterable\n",
    "def func(iter):\n",
    "    for item in iter:\n",
    "        print(item, end=' ')\n",
    "    print()\n",
    "        \n",
    "func('hello')\n",
    "func((9,))\n",
    "func(9)"
   ]
  },
  {
   "cell_type": "code",
   "execution_count": 62,
   "metadata": {
    "collapsed": false,
    "slideshow": {
     "slide_type": "-"
    }
   },
   "outputs": [
    {
     "data": {
      "text/plain": [
       "set"
      ]
     },
     "execution_count": 62,
     "metadata": {},
     "output_type": "execute_result"
    }
   ],
   "source": [
    "t = set()\n",
    "type(t)"
   ]
  },
  {
   "cell_type": "markdown",
   "metadata": {
    "slideshow": {
     "slide_type": "subslide"
    }
   },
   "source": [
    "## Sets\n",
    "* unordered\n",
    "* no duplicates"
   ]
  },
  {
   "cell_type": "code",
   "execution_count": 23,
   "metadata": {
    "collapsed": false
   },
   "outputs": [
    {
     "name": "stdout",
     "output_type": "stream",
     "text": [
      "{2, 4, 6}\n",
      "{8, 2, 4, 6}\n"
     ]
    }
   ],
   "source": [
    "even = { 2, 4, 6 }\n",
    "print(even)\n",
    "even.add(8)\n",
    "even.add(2)\n",
    "print(even)"
   ]
  },
  {
   "cell_type": "code",
   "execution_count": 24,
   "metadata": {
    "collapsed": false
   },
   "outputs": [
    {
     "name": "stdout",
     "output_type": "stream",
     "text": [
      "{2, 3, 5, 7}\n",
      "all numbers = {2, 3, 4, 5, 6, 7, 8}\n",
      "even primes = {2}\n"
     ]
    }
   ],
   "source": [
    "prime = set([int(x) for x in '2357'])\n",
    "print(prime)\n",
    "print('all numbers =', prime | even)\n",
    "print('even primes =', prime & even)\n"
   ]
  },
  {
   "cell_type": "markdown",
   "metadata": {
    "slideshow": {
     "slide_type": "subslide"
    }
   },
   "source": [
    "## Dictionaries\n",
    "* unordered list of key/value pairs\n",
    "* associative array, hash, etc."
   ]
  },
  {
   "cell_type": "code",
   "execution_count": 39,
   "metadata": {
    "collapsed": true
   },
   "outputs": [
    {
     "name": "stdout",
     "output_type": "stream",
     "text": [
      "{'blue': 9, 'green': 2, 'yellow': -1, 'red': 0}\n"
     ]
    }
   ],
   "source": [
    "d = { 'red': 0, 'blue': 1, 'green': 2 }\n",
    "d['blue'] = 9\n",
    "d['yellow'] = -1\n",
    "print(d)"
   ]
  },
  {
   "cell_type": "code",
   "execution_count": 14,
   "metadata": {
    "collapsed": false
   },
   "outputs": [
    {
     "name": "stdout",
     "output_type": "stream",
     "text": [
      "{'tall': 12, 'grande': 16, 'venti': 20}\n",
      "keys are dict_keys(['tall', 'grande', 'venti'])\n",
      "values are dict_values([12, 16, 20])\n",
      "items are dict_items([('tall', 12), ('grande', 16), ('venti', 20)])\n"
     ]
    }
   ],
   "source": [
    "d = {}\n",
    "d['tall'] = 12\n",
    "d['grande'] = 16\n",
    "d['venti'] = 20\n",
    "print(d)\n",
    "# keys() function is a view, which is dynamic\n",
    "keys = d.keys()\n",
    "# a snapshot of the keys() gives us a static list\n",
    "print('keys are', d.keys())\n",
    "print('values are', d.values())\n",
    "print('items are', d.items())"
   ]
  },
  {
   "cell_type": "code",
   "execution_count": 15,
   "metadata": {
    "collapsed": false
   },
   "outputs": [
    {
     "data": {
      "text/plain": [
       "dict_keys(['tall', 'grande', 'venti', 'trenta'])"
      ]
     },
     "execution_count": 15,
     "metadata": {},
     "output_type": "execute_result"
    }
   ],
   "source": [
    "# now add to the dict...\n",
    "d['trenta'] = 31\n",
    "keys"
   ]
  }
 ],
 "metadata": {
  "celltoolbar": "Slideshow",
  "kernelspec": {
   "display_name": "Python 3",
   "language": "python",
   "name": "python3"
  },
  "language_info": {
   "codemirror_mode": {
    "name": "ipython",
    "version": 3
   },
   "file_extension": ".py",
   "mimetype": "text/x-python",
   "name": "python",
   "nbconvert_exporter": "python",
   "pygments_lexer": "ipython3",
   "version": "3.6.0"
  }
 },
 "nbformat": 4,
 "nbformat_minor": 0
}
