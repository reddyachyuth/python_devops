{
 "cells": [
  {
   "cell_type": "markdown",
   "metadata": {
    "deletable": true,
    "editable": true,
    "slideshow": {
     "slide_type": "slide"
    }
   },
   "source": [
    "# Functional Closures and Decorators"
   ]
  },
  {
   "cell_type": "markdown",
   "metadata": {
    "deletable": true,
    "editable": true,
    "slideshow": {
     "slide_type": "subslide"
    }
   },
   "source": [
    "##  Closures\n",
    "* In order to understand closures, let's review the Python scoping rules: LEGB\n",
    "  * L = local\n",
    "  * E = enclosing\n",
    "  * G = global\n",
    "  * B = builtin (e.g., len() function)\n",
    "  \n",
    "        a = 'global scope'\n",
    "   \n",
    "        def outer_func():\n",
    "            b = 'local to outer_func()'\n",
    "            def inner_func():\n",
    "                c = 'local to inner_func()'\n",
    "                print(b, 'enclosing scope')\n",
    "                print(a, 'global scope')\n",
    "                \n",
    "* When a function references a name that is not local, Python first attempts to resolve that name in the enclosing scope\n",
    "* A *closure* is a nested function which remembers a value or values from the enclosing lexical scope even when the program flow is no longer in the enclosing scope"
   ]
  },
  {
   "cell_type": "code",
   "execution_count": 2,
   "metadata": {
    "collapsed": false,
    "deletable": true,
    "editable": true,
    "slideshow": {
     "slide_type": "subslide"
    }
   },
   "outputs": [
    {
     "name": "stdout",
     "output_type": "stream",
     "text": [
      "id(x): 100273E60\n",
      "id(adder): 105C23EA0\n"
     ]
    },
    {
     "data": {
      "text/plain": [
       "49"
      ]
     },
     "execution_count": 2,
     "metadata": {},
     "output_type": "execute_result"
    }
   ],
   "source": [
    "def make_adder(x):\n",
    "    print('id(x): %X' % id(x))\n",
    "    \n",
    "    def adder(y):\n",
    "        return x + y # Python uses LEGB to find 'x'\n",
    "    \n",
    "    print('id(adder): %X' % id(adder))\n",
    "    return adder\n",
    "\n",
    "add39 = make_adder(39)\n",
    "add39(10)"
   ]
  },
  {
   "cell_type": "code",
   "execution_count": 3,
   "metadata": {
    "collapsed": false,
    "deletable": true,
    "editable": true
   },
   "outputs": [
    {
     "data": {
      "text/plain": [
       "'<function make_adder.<locals>.adder at 0x105c23ea0>'"
      ]
     },
     "execution_count": 3,
     "metadata": {},
     "output_type": "execute_result"
    }
   ],
   "source": [
    "# let's use repr so we can see the address of the function\n",
    "# we could use print(\"%X\") as well...\n",
    "repr(add39)"
   ]
  },
  {
   "cell_type": "code",
   "execution_count": 4,
   "metadata": {
    "collapsed": false,
    "deletable": true,
    "editable": true,
    "scrolled": true
   },
   "outputs": [
    {
     "data": {
      "text/plain": [
       "(<cell at 0x10561df18: int object at 0x100273e60>,)"
      ]
     },
     "execution_count": 4,
     "metadata": {},
     "output_type": "execute_result"
    }
   ],
   "source": [
    "# all functions have a closure attribute\n",
    "add39.__closure__"
   ]
  },
  {
   "cell_type": "code",
   "execution_count": 5,
   "metadata": {
    "collapsed": false,
    "deletable": true,
    "editable": true
   },
   "outputs": [
    {
     "data": {
      "text/plain": [
       "39"
      ]
     },
     "execution_count": 5,
     "metadata": {},
     "output_type": "execute_result"
    }
   ],
   "source": [
    "# notice that the cell object has a reference to an int object\n",
    "add39.__closure__[0].cell_contents"
   ]
  },
  {
   "cell_type": "markdown",
   "metadata": {
    "collapsed": true,
    "deletable": true,
    "editable": true,
    "slideshow": {
     "slide_type": "subslide"
    }
   },
   "source": [
    "* One case where closures are frequently used is in building function wrappers\n",
    "* Suppose we want to log each invocation of a function:"
   ]
  },
  {
   "cell_type": "code",
   "execution_count": 7,
   "metadata": {
    "collapsed": false,
    "deletable": true,
    "editable": true
   },
   "outputs": [
    {
     "name": "stdout",
     "output_type": "stream",
     "text": [
      "44\n",
      "Calling <function make_adder.<locals>.adder at 0x105c23ea0>((10,), {})\n"
     ]
    },
    {
     "data": {
      "text/plain": [
       "49"
      ]
     },
     "execution_count": 7,
     "metadata": {},
     "output_type": "execute_result"
    }
   ],
   "source": [
    "def logging(f):\n",
    "    def wrapper(*args, **kwargs):\n",
    "        print('Calling %r(%r, %r)' % (f, args, kwargs))\n",
    "        return f(*args, **kwargs)\n",
    "    return wrapper\n",
    "\n",
    "logging_add39 = logging(add39)\n",
    "print(add39(5))\n",
    "logging_add39(10)"
   ]
  },
  {
   "cell_type": "code",
   "execution_count": 10,
   "metadata": {
    "collapsed": false,
    "deletable": true,
    "editable": true,
    "slideshow": {
     "slide_type": "subslide"
    }
   },
   "outputs": [
    {
     "data": {
      "text/plain": [
       "<function __main__.make_adder.<locals>.adder>"
      ]
     },
     "execution_count": 10,
     "metadata": {},
     "output_type": "execute_result"
    }
   ],
   "source": [
    "logging_add39.__closure__[0].cell_contents"
   ]
  },
  {
   "cell_type": "markdown",
   "metadata": {
    "deletable": true,
    "editable": true,
    "slideshow": {
     "slide_type": "subslide"
    }
   },
   "source": [
    "## Decorators\n",
    "* Wrapper functions are so common, that Python has it's own term for it–a *decorator*.\n",
    "* Why might you want to use a decorator?\n",
    "  * sometimes you want to modify a function’s behavior without explicitly modifying the function, e.g., pre/post actions, debugging, etc. \n",
    "  * suppose we have a set of tasks that need to be performed by many different functions, e.g.,\n",
    "   * access control\n",
    "   * cleanup\n",
    "   * error handling\n",
    "   * logging\n",
    " * ...in other words, there is some boilerplate code that needs to be executed before or after  every invocation of the function\n"
   ]
  },
  {
   "cell_type": "markdown",
   "metadata": {
    "deletable": true,
    "editable": true,
    "slideshow": {
     "slide_type": "subslide"
    }
   },
   "source": [
    "## Decorators build on topics we already know...\n",
    "* nested functions\n",
    "* variable positional args (`*args`)\n",
    "* variable keyword args (`**kwargs`)\n",
    "* functions are objects (actually everything in Python is an object)"
   ]
  },
  {
   "cell_type": "code",
   "execution_count": 2,
   "metadata": {
    "collapsed": false,
    "deletable": true,
    "editable": true
   },
   "outputs": [
    {
     "name": "stdout",
     "output_type": "stream",
     "text": [
      "Running plain old add_ints()\n",
      "8\n",
      "Running cooler add_ints()\n",
      "Running function: add_ints\n",
      "Positional arguments: (3, 5)\n",
      "Keyword arguments: {}\n",
      "Result: 8\n"
     ]
    },
    {
     "data": {
      "text/plain": [
       "8"
      ]
     },
     "execution_count": 2,
     "metadata": {},
     "output_type": "execute_result"
    }
   ],
   "source": [
    "def document_it(func):\n",
    "    # below is a nested, or inner function\n",
    "    def new_function(*args, **kwargs):\n",
    "        print('Running function: {}'.format(func.__name__))\n",
    "        print('Positional arguments: {}'.format(args))\n",
    "        print('Keyword arguments: {}'.format(kwargs))\n",
    "        # here we invoke the function passed in as an argument\n",
    "        result = func(*args, **kwargs)\n",
    "        print('Result: {}'.format(result))\n",
    "        return result\n",
    "    \n",
    "    # document_it() is returning a reference to the inner function\n",
    "    return new_function\n",
    "\n",
    "def add_ints(a, b):\n",
    "    return a + b\n",
    "\n",
    "print('Running plain old add_ints()')\n",
    "print(add_ints(3, 5))\n",
    "\n",
    "# manual decorator assignment\n",
    "cooler_add_ints = document_it(add_ints) \n",
    "\n",
    "print('Running cooler add_ints()')\n",
    "cooler_add_ints(3, 5)"
   ]
  },
  {
   "cell_type": "code",
   "execution_count": 3,
   "metadata": {
    "collapsed": false,
    "deletable": true,
    "editable": true
   },
   "outputs": [
    {
     "name": "stdout",
     "output_type": "stream",
     "text": [
      "Running function: add_ints\n",
      "Positional arguments: (4, 7)\n",
      "Keyword arguments: {}\n",
      "Result: 11\n"
     ]
    },
    {
     "data": {
      "text/plain": [
       "11"
      ]
     },
     "execution_count": 3,
     "metadata": {},
     "output_type": "execute_result"
    }
   ],
   "source": [
    "# decorator shorthand for what we did above\n",
    "@document_it\n",
    "def add_ints(a, b):\n",
    "    return a + b\n",
    "\n",
    "add_ints(4, 7)"
   ]
  },
  {
   "cell_type": "markdown",
   "metadata": {
    "deletable": true,
    "editable": true
   },
   "source": [
    "## Lab: Decorators\n",
    "1. Create a function called __`printer`__ that takes a string and prints it\n",
    "  * Then create a wrapper that will print the number of times each letter appears in the string passed in to __`printer`__, followed by the string.\n",
    "  * Use the wrapper as a decorator on your __`printer`__ function.\n",
    "* Create a class, __`Coord2D`__, which represents a point in 2-D space (i.e., x and y coordinates). Implement the following methods:\n",
    " * __`distance()`__, which computes the distance between the current __`Coord2D`__ object and another __`Coord2D`__ object, i.e., __`d = c1.distance(c2)`__, where c1 and c2 are __`Coord2D`__ objects and d is a scalar–use __`math.sqrt`__ or __`math.hypot`__\n",
    " * __`add()`__: adds a __`Coord2D`__ object to the current one and returns a new __`Coord2D`__ object which represents their sum, i.e., __`c3 = c1.add(c2)`__\n",
    " * __`sub()`__, which subtracts a __`Coord2D`__ object from the current one, i.e. __`c3 = c1.sub(c2)`__\n",
    " * __`noneg()`__, which returns a new __`Coord2D`__ object whose coordinates are not negative, so __`c1 = c1.noneg()`__ would ensure __`c1`__ has nonnegative coordinates\n",
    "* Use a decorator to ensure that the arguments to a function, as well as its return value, are nonnegative. Decorate the __`add()`__ and __`sub()`__ methods\n"
   ]
  },
  {
   "cell_type": "code",
   "execution_count": null,
   "metadata": {
    "collapsed": true
   },
   "outputs": [],
   "source": [
    "def counterwrap(func):\n",
    "    def inner(s):\n",
    "        from collections import Counter\n",
    "        count = Counter(s)\n",
    "        for item in cou"
   ]
  },
  {
   "cell_type": "code",
   "execution_count": 4,
   "metadata": {
    "collapsed": false,
    "deletable": true,
    "editable": true
   },
   "outputs": [
    {
     "name": "stdout",
     "output_type": "stream",
     "text": [
      "Mississippi\n"
     ]
    }
   ],
   "source": [
    "def counterwrap(func):\n",
    "    def inner(s):\n",
    "        from collections import Counter\n",
    "        count = Counter(s)\n",
    "        for item in count:\n",
    "            print(item, '=>', count[item])\n",
    "        func(s)\n",
    "    \n",
    "    return inner\n",
    "\n",
    "def printer(s):\n",
    "    print(s)\n",
    "\n",
    "printer('Mississippi')"
   ]
  },
  {
   "cell_type": "code",
   "execution_count": 3,
   "metadata": {
    "collapsed": false,
    "deletable": true,
    "editable": true
   },
   "outputs": [
    {
     "ename": "NameError",
     "evalue": "name 'document_it_now' is not defined",
     "output_type": "error",
     "traceback": [
      "\u001b[0;31m---------------------------------------------------------------------------\u001b[0m",
      "\u001b[0;31mNameError\u001b[0m                                 Traceback (most recent call last)",
      "\u001b[0;32m<ipython-input-3-f19192902b24>\u001b[0m in \u001b[0;36m<module>\u001b[0;34m()\u001b[0m\n\u001b[1;32m     11\u001b[0m \u001b[0;34m\u001b[0m\u001b[0m\n\u001b[1;32m     12\u001b[0m \u001b[0;34m@\u001b[0m\u001b[0mcounterwrap\u001b[0m\u001b[0;34m\u001b[0m\u001b[0m\n\u001b[0;32m---> 13\u001b[0;31m \u001b[0;34m@\u001b[0m\u001b[0mdocument_it_now\u001b[0m\u001b[0;34m\u001b[0m\u001b[0m\n\u001b[0m\u001b[1;32m     14\u001b[0m \u001b[0;32mdef\u001b[0m \u001b[0mprinter\u001b[0m\u001b[0;34m(\u001b[0m\u001b[0ms\u001b[0m\u001b[0;34m)\u001b[0m\u001b[0;34m:\u001b[0m\u001b[0;34m\u001b[0m\u001b[0m\n\u001b[1;32m     15\u001b[0m     \u001b[0mprint\u001b[0m\u001b[0;34m(\u001b[0m\u001b[0ms\u001b[0m\u001b[0;34m)\u001b[0m\u001b[0;34m\u001b[0m\u001b[0m\n",
      "\u001b[0;31mNameError\u001b[0m: name 'document_it_now' is not defined"
     ]
    }
   ],
   "source": [
    "def counterwrap(func):\n",
    "    def inner(s):\n",
    "        from collections import Counter\n",
    "        count = Counter(s)\n",
    "        for item in count:\n",
    "            print(item, count[item])\n",
    "        print('    about to execute', func)\n",
    "        func(s)\n",
    "\n",
    "    return inner\n",
    "\n",
    "@counterwrap\n",
    "@document_it_now\n",
    "def printer(s):\n",
    "    print(s)\n",
    "\n",
    "#twice_decorated_printer = counterwrap(document_it_now(printer))\n",
    "\n",
    "print(\"Executing once_decorated_printer...\")\n",
    "#once_decorated_printer('hello')\n",
    "printer('hello')\n",
    "print()\n",
    "#print(\"Executing twice_decorated_printer...\")\n",
    "#twice_decorated_printer('hello')"
   ]
  },
  {
   "cell_type": "code",
   "execution_count": 37,
   "metadata": {
    "collapsed": false,
    "deletable": true,
    "editable": true
   },
   "outputs": [],
   "source": [
    "from math import sqrt\n",
    "\n",
    "def ensure_positive(fn): # name of decorator\n",
    "    def decorator(a, b): # actual decorator method\n",
    "        a = a.noneg()\n",
    "        b = b.noneg()\n",
    "        print('type(a)=', type(a))\n",
    "        print('type(b)=', type(b))\n",
    "        return fn(a, b).noneg()\n",
    "    return decorator\n",
    "\n",
    "class Coord2d():\n",
    "    def __init__(self, x=0, y=0):\n",
    "        self.x, self.y = x, y\n",
    "\n",
    "    def __repr__(self):\n",
    "        return 'Coord2d(x={}, y={})'.format(self.x, self.y)\n",
    "\n",
    "    def distance(self, other):\n",
    "        x1, y1 = self.x, self.y\n",
    "        x2, y2 = other.x, other.y\n",
    "        return sqrt((x1 - x2) ** 2 + (y1 - y2) ** 2)\n",
    "\n",
    "    @ensure_positive\n",
    "    def add(self, other):\n",
    "        return Coord2d(self.x + other.x, self.y + other.y)\n",
    "\n",
    "    @ensure_positive\n",
    "    def sub(self, other):\n",
    "        return Coord2d(self.x - other.x, self.y - other.y)\n",
    "\n",
    "    def noneg(self):\n",
    "        return Coord2d(max(self.x, 0), max(self.y, 0))"
   ]
  },
  {
   "cell_type": "code",
   "execution_count": 38,
   "metadata": {
    "collapsed": true,
    "deletable": true,
    "editable": true
   },
   "outputs": [],
   "source": [
    "c1 = Coord2d(1, 2)\n",
    "c2 = Coord2d(-2, -3)"
   ]
  },
  {
   "cell_type": "code",
   "execution_count": 39,
   "metadata": {
    "collapsed": false,
    "deletable": true,
    "editable": true
   },
   "outputs": [
    {
     "data": {
      "text/plain": [
       "(Coord2d(x=1, y=2), Coord2d(x=-2, y=-3))"
      ]
     },
     "execution_count": 39,
     "metadata": {},
     "output_type": "execute_result"
    }
   ],
   "source": [
    "c1, c2"
   ]
  },
  {
   "cell_type": "code",
   "execution_count": 34,
   "metadata": {
    "collapsed": false,
    "deletable": true,
    "editable": true
   },
   "outputs": [
    {
     "name": "stdout",
     "output_type": "stream",
     "text": [
      "Coord2d(x=1, y=2) Coord2d(x=-2, y=-3)\n"
     ]
    }
   ],
   "source": [
    "print(c1, c2)"
   ]
  },
  {
   "cell_type": "code",
   "execution_count": 35,
   "metadata": {
    "collapsed": false,
    "deletable": true,
    "editable": true
   },
   "outputs": [
    {
     "data": {
      "text/plain": [
       "5.830951894845301"
      ]
     },
     "execution_count": 35,
     "metadata": {},
     "output_type": "execute_result"
    }
   ],
   "source": [
    "c1.distance(c2)"
   ]
  },
  {
   "cell_type": "code",
   "execution_count": 40,
   "metadata": {
    "collapsed": false,
    "deletable": true,
    "editable": true
   },
   "outputs": [
    {
     "name": "stdout",
     "output_type": "stream",
     "text": [
      "type(a)= <class '__main__.Coord2d'>\n",
      "type(b)= <class '__main__.Coord2d'>\n"
     ]
    },
    {
     "data": {
      "text/plain": [
       "Coord2d(x=1, y=2)"
      ]
     },
     "execution_count": 40,
     "metadata": {},
     "output_type": "execute_result"
    }
   ],
   "source": [
    "c1.add(c2)"
   ]
  }
 ],
 "metadata": {
  "celltoolbar": "Slideshow",
  "kernelspec": {
   "display_name": "Python 3",
   "language": "python",
   "name": "python3"
  },
  "language_info": {
   "codemirror_mode": {
    "name": "ipython",
    "version": 3
   },
   "file_extension": ".py",
   "mimetype": "text/x-python",
   "name": "python",
   "nbconvert_exporter": "python",
   "pygments_lexer": "ipython3",
   "version": "3.5.1"
  }
 },
 "nbformat": 4,
 "nbformat_minor": 0
}
