{
 "cells": [
  {
   "cell_type": "code",
   "execution_count": 1,
   "metadata": {
    "collapsed": false,
    "deletable": true,
    "editable": true
   },
   "outputs": [
    {
     "data": {
      "image/png": "Multithread.jpg",
      "text/plain": [
       "<IPython.core.display.Image object>"
      ]
     },
     "execution_count": 1,
     "metadata": {},
     "output_type": "execute_result"
    }
   ],
   "source": [
    "from IPython.display import Image\n",
    "Image('Multithread.jpg')"
   ]
  },
  {
   "cell_type": "markdown",
   "metadata": {
    "deletable": true,
    "editable": true
   },
   "source": [
    "### Threading\n",
    "* typically, concurrency is created so that we can do some task while I/O is happening (e.g., a server can start processing a new request while waiting for data from a previous request to arrive)\n",
    "* we can create objects that appear to be running independently, but simultaneously\n",
    "* the job of threading is to enable an application to be responsive\n",
    "* CPython, the default implementation of Python, has a Global Interpreter Lock (GIL), which prevents your application from doing two things at once, but rather, the CPU time is being rationed across your thread"
   ]
  },
  {
   "cell_type": "markdown",
   "metadata": {
    "deletable": true,
    "editable": true
   },
   "source": [
    "### Simple threading example"
   ]
  },
  {
   "cell_type": "code",
   "execution_count": 2,
   "metadata": {
    "collapsed": false,
    "deletable": true,
    "editable": true
   },
   "outputs": [
    {
     "name": "stdout",
     "output_type": "stream",
     "text": [
      "Are you ready? When you hit return the thread will start.\n",
      "Enter some text: d\n",
      "calculated squares up to 439770 * 439770 = 193,396,773,361\n",
      "while you typed \"d\"\n"
     ]
    }
   ],
   "source": [
    "from threading import Thread\n",
    "\n",
    "class InputReader(Thread):\n",
    "    \"\"\"Thread example, extends Thread class\"\"\"\n",
    "\n",
    "    def run(self):\n",
    "        \"\"\"\n",
    "        Whatever is in the run method (or called from\n",
    "        it) is executed in a separate thread\n",
    "        \"\"\"\n",
    "        self.line_of_text = input('Enter some text: ')\n",
    "\n",
    "input('Are you ready? When you hit return the thread will start.')\n",
    "thread = InputReader()\n",
    "thread.start() # cf. thread.run() for no concurrency\n",
    "\n",
    "count, result = 1, 1\n",
    "\n",
    "while thread.is_alive():\n",
    "    result = count * count\n",
    "    count += 1\n",
    "\n",
    "print('calculated squares up to {0} * {0} = {1:,}'.format(count, result))\n",
    "print('while you typed \"{}\"'.format(thread.line_of_text))"
   ]
  },
  {
   "cell_type": "code",
   "execution_count": 4,
   "metadata": {
    "collapsed": false,
    "deletable": true,
    "editable": true
   },
   "outputs": [
    {
     "name": "stderr",
     "output_type": "stream",
     "text": [
      "Exception in thread Thread-18:\n",
      "Traceback (most recent call last):\n",
      "  File \"/Library/Frameworks/Python.framework/Versions/3.5/lib/python3.5/threading.py\", line 914, in _bootstrap_inner\n",
      "    self.run()\n",
      "  File \"<ipython-input-4-b0c4952213ac>\", line 30, in run\n",
      "    response = urlopen(url_template.format(self.city))\n",
      "  File \"/Library/Frameworks/Python.framework/Versions/3.5/lib/python3.5/urllib/request.py\", line 162, in urlopen\n",
      "    return opener.open(url, data, timeout)\n",
      "  File \"/Library/Frameworks/Python.framework/Versions/3.5/lib/python3.5/urllib/request.py\", line 471, in open\n",
      "    response = meth(req, response)\n",
      "  File \"/Library/Frameworks/Python.framework/Versions/3.5/lib/python3.5/urllib/request.py\", line 581, in http_response\n",
      "    'http', request, response, code, msg, hdrs)\n",
      "  File \"/Library/Frameworks/Python.framework/Versions/3.5/lib/python3.5/urllib/request.py\", line 509, in error\n",
      "    return self._call_chain(*args)\n",
      "  File \"/Library/Frameworks/Python.framework/Versions/3.5/lib/python3.5/urllib/request.py\", line 443, in _call_chain\n",
      "    result = func(*args)\n",
      "  File \"/Library/Frameworks/Python.framework/Versions/3.5/lib/python3.5/urllib/request.py\", line 589, in http_error_default\n",
      "    raise HTTPError(req.full_url, code, msg, hdrs, fp)\n",
      "urllib.error.HTTPError: HTTP Error 400: Bad Request\n",
      "\n"
     ]
    },
    {
     "name": "stdout",
     "output_type": "stream",
     "text": [
      "it is 64°F in Boulder\n",
      "it is 59°F in Atlanta\n"
     ]
    },
    {
     "ename": "AttributeError",
     "evalue": "'TempGetter' object has no attribute 'temperature'",
     "output_type": "error",
     "traceback": [
      "\u001b[0;31m--------------------------------------------------------------------------\u001b[0m",
      "\u001b[0;31mAttributeError\u001b[0m                           Traceback (most recent call last)",
      "\u001b[0;32m<ipython-input-4-b0c4952213ac>\u001b[0m in \u001b[0;36m<module>\u001b[0;34m()\u001b[0m\n\u001b[1;32m     43\u001b[0m \u001b[0;32mfor\u001b[0m \u001b[0mthread\u001b[0m \u001b[0;32min\u001b[0m \u001b[0mthreads\u001b[0m\u001b[0;34m:\u001b[0m\u001b[0;34m\u001b[0m\u001b[0m\n\u001b[1;32m     44\u001b[0m     print(\"it is {0.temperature:.0f}°F in {0.city}\"\n\u001b[0;32m---> 45\u001b[0;31m           .format(thread))\n\u001b[0m\u001b[1;32m     46\u001b[0m print(\"Got {} temps in {} seconds\"\n\u001b[1;32m     47\u001b[0m       .format(len(threads), time.time() - start))\n",
      "\u001b[0;31mAttributeError\u001b[0m: 'TempGetter' object has no attribute 'temperature'"
     ]
    }
   ],
   "source": [
    "# Does not work inside Jupyter\n",
    "from threading import Thread\n",
    "import json\n",
    "from urllib.request import urlopen\n",
    "import time\n",
    "\n",
    "cities = ['Boulder', 'Atlanta', 'San Francisco',\n",
    "          'Reno', 'Honolulu', 'Zurich', 'Dubai',\n",
    "          'Dublin','Stuttgart', 'Rome']\n",
    "\n",
    "class TempGetter(Thread):\n",
    "    def __init__(self, city):\n",
    "        \"\"\"Initialize our thread\n",
    "\n",
    "In the previous example, our class which extended Thread did not\n",
    "need an __init__ method, because there was no per-thread information\n",
    "to store. Which means that the __init__ method from the superclass\n",
    "(Thread) was called automatically. Here, because we need to store\n",
    "per-thread information (the city), we have to explicitly call the\n",
    "__init__ method of Thread.\n",
    "        \"\"\"\n",
    "        super().__init__()\n",
    "        self.city = city\n",
    "\n",
    "    def run(self):\n",
    "        url_template = (\n",
    "            'http://api.openweathermap.org/data/2.5/' \n",
    "            'weather?q={}&units=imperial'\n",
    "                        '&&APPID=10d4440bbaa8581bb8da9bd1fbea5617')\n",
    "        response = urlopen(url_template.format(self.city))\n",
    "        data = json.loads(response.read().decode())\n",
    "        self.temperature = data['main']['temp']\n",
    "\n",
    "threads = [TempGetter(c) for c in cities]\n",
    "start = time.time()\n",
    "\n",
    "for thread in threads:\n",
    "    thread.start()\n",
    "\n",
    "for thread in threads:\n",
    "    thread.join()\n",
    "\n",
    "for thread in threads:\n",
    "    print(\"it is {0.temperature:.0f}°F in {0.city}\"\n",
    "          .format(thread))\n",
    "print(\"Got {} temps in {} seconds\"\n",
    "      .format(len(threads), time.time() - start))"
   ]
  },
  {
   "cell_type": "code",
   "execution_count": 6,
   "metadata": {
    "collapsed": false,
    "deletable": true,
    "editable": true
   },
   "outputs": [
    {
     "name": "stdout",
     "output_type": "stream",
     "text": [
      "it is 61°F in Boulder\n",
      "it is 68°F in Atlanta\n",
      "it is 41°F in Germantown\n",
      "it is 58°F in Reno\n",
      "it is 84°F in Honolulu\n",
      "it is 46°F in Zurich\n",
      "it is 73°F in Dubai\n",
      "it is 60°F in Dublin\n",
      "it is 42°F in Stuttgart\n",
      "it is 45°F in Rome\n",
      "Got 10 temps in 0.2898731231689453 seconds\n"
     ]
    }
   ],
   "source": [
    "%%bash\n",
    "python3 getweather.py"
   ]
  },
  {
   "cell_type": "markdown",
   "metadata": {
    "deletable": true,
    "editable": true
   },
   "source": [
    "## Threading (cont'd)\n",
    "* the main problem with threads is also their primary advantage–shared memory\n",
    " * all threads have access to all the memory\n",
    " * what if two threads access the same data?\n",
    "* synchronization is the solution, but it's tricky\n",
    " * bugs due to incorrect synchronization can be very difficult to find due to ordering issues\n",
    "* one solution is to force communication between threads to occur using a data structure that has built in locking, such as queue.Queue\n",
    "* disadvantages could be outweighed by the fact that shared memory is FAST, except for the GIL"
   ]
  },
  {
   "cell_type": "markdown",
   "metadata": {
    "deletable": true,
    "editable": true
   },
   "source": [
    "## Lab: threads\n",
    "* create a program which uses threads to simulate a database server\n",
    "* your \"database server\" should simply be a thread which sleeps for a random interval (check out `time.sleep()` and `random.randint()` if you're not familiar with them)\n",
    "* your main thread should get input from the user and respond to it (perhaps reversing the input given by the user) while the database thread is busy"
   ]
  },
  {
   "cell_type": "markdown",
   "metadata": {
    "deletable": true,
    "editable": true
   },
   "source": [
    "## Lab Solution: threads"
   ]
  },
  {
   "cell_type": "code",
   "execution_count": 2,
   "metadata": {
    "collapsed": false,
    "deletable": true,
    "editable": true
   },
   "outputs": [
    {
     "name": "stdout",
     "output_type": "stream",
     "text": [
      "Processing database request for 14 seconds\n",
      "Finished processing database request\n",
      "Processing database request for 18 seconds\n",
      "Enter some text: I think something\n",
      "gnihtemos kniht I deretne uoY \n",
      "Finished processing database request\n",
      "Processing database request for 19 seconds\n",
      "Enter some text: hello\n",
      "olleh deretne uoY \n",
      "Finished processing database request\n",
      "Processing database request for 17 seconds\n",
      "Enter some text: qqq\n",
      "Finished processing database request\n",
      "mp has requested the database server stop running.\n"
     ]
    }
   ],
   "source": [
    "# Need to run from Python shell, not in Jupyter and not %%bash\n",
    "# actually this seems to work in Jupyter now...\n",
    "from threading import Thread\n",
    "import random\n",
    "import time\n",
    "import sys\n",
    "\n",
    "running = True\n",
    "\n",
    "class DatabaseServer(Thread):\n",
    "    \"\"\"process imaginary database requests\"\"\"\n",
    "    \n",
    "    def run(self):\n",
    "        \"\"\"\n",
    "        Whatever is in the run method (or called from\n",
    "        it, is executed in a separate thread\n",
    "        \"\"\"\n",
    "        while running:\n",
    "            sec = random.randint(10, 20)\n",
    "            print('Processing database request for', sec, 'seconds')\n",
    "            time.sleep(sec)\n",
    "            print('Finished processing database request')\n",
    "            sys.stdout.flush()\n",
    "        print('mp has requested the database server stop running.')\n",
    "\n",
    "thread = DatabaseServer()\n",
    "thread.start()\n",
    "\n",
    "while True:\n",
    "    text = input('Enter some text: ')\n",
    "    if text == 'qqq':\n",
    "        running = False\n",
    "        while thread.is_alive():\n",
    "            pass\n",
    "        break\n",
    "    print(text[::-1], 'deretne uoY ')"
   ]
  },
  {
   "cell_type": "markdown",
   "metadata": {
    "deletable": true,
    "editable": true
   },
   "source": [
    "# Multiprocessing\n",
    "* the Python multiprocessing library is designed for cases where CPU-bound jobs needs to happen in parallel and multiple cores are available\n",
    "* advantages\n",
    " * separate memory space for each process\n",
    " * code is usually straightforward compared to threads\n",
    " * avoids GIL limitation\n",
    " * eliminates synchronization (assuming no shared memory)"
   ]
  },
  {
   "cell_type": "markdown",
   "metadata": {
    "deletable": true,
    "editable": true
   },
   "source": [
    "## A Simple Multiprocessing Example"
   ]
  },
  {
   "cell_type": "code",
   "execution_count": 12,
   "metadata": {
    "collapsed": false,
    "deletable": true,
    "editable": true
   },
   "outputs": [
    {
     "name": "stdout",
     "output_type": "stream",
     "text": [
      "Running...\n",
      "98682\n",
      "98683\n",
      "98684\n",
      "98685\n",
      "work took 21.735472917556763 seconds\n"
     ]
    }
   ],
   "source": [
    "from multiprocessing import Process, cpu_count\n",
    "import time\n",
    "import os\n",
    "\n",
    "class MuchCPU(Process):\n",
    "    def run(self):\n",
    "        print(os.getpid())\n",
    "        for i in range(200000000):\n",
    "            pass\n",
    "\n",
    "if __name__ == '__main__':\n",
    "    print('Running...')\n",
    "    procs = [MuchCPU() for f in range(cpu_count())]\n",
    "    t = time.time()\n",
    "    for p in procs:\n",
    "        p.start()\n",
    "    \n",
    "    for p in procs:\n",
    "        p.join()\n",
    "    \n",
    "    print('work took {} seconds'.format(time.time() - t))"
   ]
  },
  {
   "cell_type": "markdown",
   "metadata": {
    "deletable": true,
    "editable": true
   },
   "source": [
    "## Multiprocessing (cont'd)\n",
    "* no reason for more processes than there are processors\n",
    " * only `cpu_count()` procs can run simultaneously\n",
    " * each proc consumes resources with a full copy of Python interpreter\n",
    " * interproc communication is expensive\n",
    " * creating procs takes a nonzero amount of time\n",
    "* so we create at most `cpu_count()` processes when the program starts and have them execute tasks as needed\n",
    "* easy to implement a basic series of communicating processes to do this, but it can be tricky to debug, test, and get correct–we don't have to do all this work because the Python developers have already done it for us–multiprocessing pools\n"
   ]
  },
  {
   "cell_type": "markdown",
   "metadata": {
    "deletable": true,
    "editable": true
   },
   "source": [
    "## Multiprocessing Pools\n",
    "* pools abstract away the overhead of figuring out what code is running in main process and what code is running in subprocess\n",
    "* abstraction restricts the number of places that code in different processes interact with each other, making it easier to keep track of\n",
    "* pools also hide the passing of data between processes\n",
    " * using a pool looks much like a function call–you pass data into a function, it's executed in another process or processes, and when the work is complete, a value is returned\n",
    " * under the hood, a lot of work is being done to support this–objects in one process are being pickled (serialized) and passed into a pipe, then another process retrieves data from the pipe and unpickles it. Work is done in the subprocess and a result is produced. The result is pickled and passed into a pipe. Eventually, the original process unpickles it and returns it."
   ]
  },
  {
   "cell_type": "markdown",
   "metadata": {
    "deletable": true,
    "editable": true
   },
   "source": [
    "## Multiprocessing Pool Example"
   ]
  },
  {
   "cell_type": "code",
   "execution_count": 9,
   "metadata": {
    "collapsed": false,
    "deletable": true,
    "editable": true
   },
   "outputs": [
    {
     "name": "stdout",
     "output_type": "stream",
     "text": [
      "The factors of 25413054 are [2, 3, 311, 13619]\n",
      "The factors of 2772708 are [2, 2, 3, 19, 12161]\n",
      "The factors of 30947298 are [2, 3, 5157883]\n",
      "The factors of 37490844 are [2, 2, 3, 61, 51217]\n",
      "The factors of 28832121 are [3, 3, 3203569]\n",
      "The factors of 43520570 are [2, 5, 379, 11483]\n",
      "The factors of 34549427 are [11, 23, 136559]\n",
      "The factors of 26669108 are [2, 2, 107, 62311]\n",
      "The factors of 42910320 are [2, 2, 2, 2, 3, 5, 178793]\n",
      "The factors of 15677827 are [11, 787, 1811]\n",
      "The factors of 7712455 are [5, 223, 6917]\n",
      "The factors of 49323510 are [2, 3, 3, 5, 548039]\n",
      "The factors of 15325368 are [2, 2, 2, 3, 59, 79, 137]\n",
      "The factors of 31566741 are [3, 23, 79, 5791]\n",
      "The factors of 24694619 are [24694619]\n",
      "The factors of 31095925 are [5, 5, 7, 177691]\n",
      "The factors of 46738906 are [2, 181, 129113]\n",
      "The factors of 18388076 are [2, 2, 7, 127, 5171]\n",
      "The factors of 14402729 are [11, 1309339]\n",
      "The factors of 10265092 are [2, 2, 19, 31, 4357]\n"
     ]
    }
   ],
   "source": [
    "import random\n",
    "import math\n",
    "from multiprocessing.pool import Pool\n",
    "\n",
    "def prime_factor(value):\n",
    "    factors = []\n",
    "    for divisor in range(2, value-1):\n",
    "        quotient, remainder = divmod(value, divisor)\n",
    "        if not remainder:\n",
    "            factors.extend(prime_factor(divisor))\n",
    "            factors.extend(prime_factor(quotient))\n",
    "            break\n",
    "    else:\n",
    "        factors = [value]\n",
    "    return factors\n",
    "\n",
    "if __name__ == '__main__':\n",
    "    pool = Pool()\n",
    "\n",
    "    to_factor = [\n",
    "        random.randint(100000, 50000000) for i in range(20)\n",
    "    ]\n",
    "    results = pool.map(prime_factor, to_factor)\n",
    "    for value, factors in zip(to_factor, results):\n",
    "        print(\"The factors of {} are {}\".format(value, factors))"
   ]
  },
  {
   "cell_type": "code",
   "execution_count": 7,
   "metadata": {
    "collapsed": false,
    "deletable": true,
    "editable": true
   },
   "outputs": [
    {
     "name": "stdout",
     "output_type": "stream",
     "text": [
      "Groucho => Moe => Cindy\n",
      "Harpo => Larry => Marcia\n",
      "Chico => Curly => Jan\n"
     ]
    }
   ],
   "source": [
    "marx_bros = ['Groucho', 'Harpo', 'Chico', 'Zeppo']\n",
    "stooges = ('Moe', 'Larry', 'Curly')\n",
    "bradygirls = {'Marcia': 18, 'Jan': 13, 'Cindy': 10}\n",
    "for bro, stooge, brady in zip(marx_bros, stooges, bradygirls):\n",
    "    print(bro, '=>', stooge, '=>', brady)"
   ]
  },
  {
   "cell_type": "markdown",
   "metadata": {
    "deletable": true,
    "editable": true
   },
   "source": [
    "## Lab: Multiprocessing Pool\n",
    "* write a program to compute 1!…48! using a multiprocessing pool\n",
    "* won't be much of a parallelism example, but it's easy to code\n",
    "* use previous example as a template"
   ]
  },
  {
   "cell_type": "markdown",
   "metadata": {
    "deletable": true,
    "editable": true
   },
   "source": [
    "## Lab Solution: Multiprocessing Pool"
   ]
  },
  {
   "cell_type": "code",
   "execution_count": null,
   "metadata": {
    "collapsed": true,
    "deletable": true,
    "editable": true
   },
   "outputs": [],
   "source": [
    "from multiprocessing.pool import Pool\n",
    "import math\n",
    "\n",
    "pool = Pool()\n",
    "results = pool.map(math.factorial, range(1, 49))\n",
    "for index, result in zip(range(1, 49), results):\n",
    "    print(index, result)"
   ]
  },
  {
   "cell_type": "markdown",
   "metadata": {
    "deletable": true,
    "editable": true
   },
   "source": [
    "## Multiprocessing Issues/What Else\n",
    "* primary drawback: sharing data between processes is expensive since all communication between processes requires serialization (pickling) the data\n",
    "* what we didn't cover\n",
    " * futures: objects that wrap threading or multiprocessing depending on what kind of concurrency we need (I/O vs. CPU)\n",
    " * AsyncIO: current state of the art in Python concurrent programming"
   ]
  }
 ],
 "metadata": {
  "kernelspec": {
   "display_name": "Python 3",
   "language": "python",
   "name": "python3"
  },
  "language_info": {
   "codemirror_mode": {
    "name": "ipython",
    "version": 3
   },
   "file_extension": ".py",
   "mimetype": "text/x-python",
   "name": "python",
   "nbconvert_exporter": "python",
   "pygments_lexer": "ipython3",
   "version": "3.5.1"
  }
 },
 "nbformat": 4,
 "nbformat_minor": 0
}
