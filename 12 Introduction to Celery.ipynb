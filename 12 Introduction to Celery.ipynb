{
 "cells": [
  {
   "cell_type": "markdown",
   "metadata": {
    "slideshow": {
     "slide_type": "slide"
    }
   },
   "source": [
    "![alt text](Celery.jpg \"Celery\")"
   ]
  },
  {
   "cell_type": "markdown",
   "metadata": {
    "slideshow": {
     "slide_type": "subslide"
    }
   },
   "source": [
    "### What is Celery?\n",
    "* an open source asynchronous task queue/job queue based on distributed message passing\n",
    "* \"a task queue with batteries included\"\n",
    "* execution units called *tasks* are executed concurrently on one or more worker nodes\n",
    "* tasks can execute asynchronously (in the background) or synchronously (wait until ready)\n",
    "* used by Instagram to process millions of tasks every day"
   ]
  },
  {
   "cell_type": "markdown",
   "metadata": {
    "slideshow": {
     "slide_type": "subslide"
    }
   },
   "source": [
    "### Choosing a Broker\n",
    "* Celery requires a solution to send and receive messages\n",
    "  * typically this is performed via a separate service called a *message broker*\n",
    "* there are several choices of broker available\n",
    "  * `RabbitMQ`: feature-complete, stable, durable and easy to install\n",
    "    * http://www.rabbitmq.com/install-standalone-mac.html\n",
    "  * `Redis`:  also feature-complete, but  more susceptible to data loss in the event of abrupt termination or power failures http://docs.celeryproject.org/en/latest/getting-started/brokers/redis.html#broker-redis\n",
    "  * Databases: not recommended, but can be sufficient for very small installations and testing purposes:\n",
    "    * `SQLAlchemy`: http://docs.celeryproject.org/en/latest/getting-started/brokers/sqlalchemy.html#broker-sqlalchemy\n",
    "    * `Django`: http://docs.celeryproject.org/en/latest/getting-started/brokers/django.html#broker-django\n",
    "* We'll use `RabbitMQ`, as it's very common, robust, etc.\n",
    " "
   ]
  },
  {
   "cell_type": "markdown",
   "metadata": {
    "slideshow": {
     "slide_type": "subslide"
    }
   },
   "source": [
    "### Installing Celery\n",
    "* __`pip3 install celery`__\n",
    "* to test, try __`from celery import Celery`__\n",
    "* install __`RabbitMQ`__\n",
    "  * complete installation instructions at http://www.rabbitmq.com/download.html\n",
    "  * on a Mac, it's easiest to use `Homebrew` to perform the installation http://www.rabbitmq.com/install-standalone-mac.html\n",
    "  * start server __`/usr/local/sbin/rabbitmq-server`__"
   ]
  },
  {
   "cell_type": "markdown",
   "metadata": {
    "slideshow": {
     "slide_type": "subslide"
    }
   },
   "source": [
    "### The Celery Application\n",
    "* first we need a Celery *instance*, i.e., the Celery application, or \"app\"\n",
    "* this instance is used as the entry-point for everything you want to do in Celery, e.g., creating tasks and managing workers\n",
    "  * therefore it must be possible for other modules to import it\n",
    "  * for now, we'll put everything in a single module called `tasks.py`"
   ]
  },
  {
   "cell_type": "code",
   "execution_count": 4,
   "metadata": {
    "collapsed": true
   },
   "outputs": [],
   "source": [
    "# tasks.py\n",
    "from celery import Celery\n",
    "\n",
    "app = Celery('tasks', broker='amqp://guest@localhost//')\n",
    "\n",
    "@app.task\n",
    "def add(x, y):\n",
    "    return x + y"
   ]
  },
  {
   "cell_type": "markdown",
   "metadata": {},
   "source": [
    "* first argument to Celery is the name of the current module–__`tasks`__–this is needed so that names can be automatically generated\n",
    "* second argument is the broker keyword argument which specifies the URL of the message broker you want to use"
   ]
  },
  {
   "cell_type": "markdown",
   "metadata": {
    "slideshow": {
     "slide_type": "subslide"
    }
   },
   "source": [
    "### Next: Running the Celery Worker Server\n",
    "* in a production system, the worker would be run in the background, e.g., as a daemon (see http://docs.celeryproject.org/en/latest/tutorials/daemonizing.html)\n",
    "  * for demonstration purposes, we'll just run it by hand in a separate window\n",
    "    * __`celery -A tasks worker --loglevel=info`__\n",
    "    * make sure you run it from the directory which contains `tasks.py`\n",
    "* for more information, try\n",
    "  * __`celery worker --help`__\n",
    "  * __`celery --help`__"
   ]
  },
  {
   "cell_type": "markdown",
   "metadata": {
    "slideshow": {
     "slide_type": "subslide"
    }
   },
   "source": [
    "### Calling the task!\n",
    "* we will use the [__`delay()`__](http://docs.celeryproject.org/en/latest/reference/celery.app.task.html#celery.app.task.Task.delay) method to invoke the task\n",
    "* it's a shortcut for the fully-featured [__`apply_async()`__](http://docs.celeryproject.org/en/latest/reference/celery.app.task.html#celery.app.task.Task.apply_async) method"
   ]
  },
  {
   "cell_type": "code",
   "execution_count": 3,
   "metadata": {
    "collapsed": false
   },
   "outputs": [
    {
     "name": "stdout",
     "output_type": "stream",
     "text": [
      "092a31fe-d250-4c27-97c1-073b794f43f3\n"
     ]
    }
   ],
   "source": [
    "print(r)"
   ]
  },
  {
   "cell_type": "code",
   "execution_count": 2,
   "metadata": {
    "collapsed": false
   },
   "outputs": [],
   "source": [
    "from tasks import add\n",
    "r = add.delay(4, 12)\n"
   ]
  },
  {
   "cell_type": "markdown",
   "metadata": {},
   "source": [
    "* as above, calling __`delay()`__ returns an `AsyncResult` instance\n",
    "  * can be used to check the state of the task, wait for the task to finish or get its return value (or if the task failed, the exception and traceback)\n",
    "  * however, this isn’t enabled by default\n",
    "    * you must configure Celery to use a *result backend*"
   ]
  },
  {
   "cell_type": "markdown",
   "metadata": {
    "slideshow": {
     "slide_type": "subslide"
    }
   },
   "source": [
    "### Keeping Results\n",
    "* if you want to keep track of the tasks’ states, Celery needs to store or send the states somewhere\n",
    "* there are several built-in result backends to choose from: `SQLAlchemy/Django ORM`, `Memcached`, `Redis`, `AMQP (RabbitMQ)`, and `MongoDB`–or you can define your own\n",
    "* we will use the `rpc` result backend, which sends states back as transient messages (but does not store them)\n",
    "* the backend is specified via the `backend` argument to Celery\n",
    "  * (or via the `CELERY_RESULT_BACKEND` setting if you choose to use a configuration module)\n",
    "* so we'll update `tasks.py` to specify the backend and then try again to see the result..."
   ]
  },
  {
   "cell_type": "code",
   "execution_count": 4,
   "metadata": {
    "collapsed": false
   },
   "outputs": [],
   "source": [
    "# tasks.py\n",
    "from celery import Celery\n",
    "\n",
    "app = Celery('tasks', backend='rpc://', broker='amqp://guest@localhost')\n",
    "\n",
    "@app.task\n",
    "def add(x, y):\n",
    "    return x + y"
   ]
  },
  {
   "cell_type": "code",
   "execution_count": 8,
   "metadata": {
    "collapsed": false
   },
   "outputs": [
    {
     "data": {
      "text/plain": [
       "<AsyncResult: 41c7ec17-5334-4e37-ba32-a3a4356a72c1>"
      ]
     },
     "execution_count": 8,
     "metadata": {},
     "output_type": "execute_result"
    }
   ],
   "source": [
    "# before we excute this, we must restart the Celery worker\n",
    "from tasks import add\n",
    "result = add.delay(3.94, 5.27)\n",
    "result"
   ]
  },
  {
   "cell_type": "code",
   "execution_count": 9,
   "metadata": {
    "collapsed": false
   },
   "outputs": [
    {
     "data": {
      "text/plain": [
       "True"
      ]
     },
     "execution_count": 9,
     "metadata": {},
     "output_type": "execute_result"
    }
   ],
   "source": [
    "result.ready()"
   ]
  },
  {
   "cell_type": "code",
   "execution_count": 10,
   "metadata": {
    "collapsed": false
   },
   "outputs": [
    {
     "data": {
      "text/plain": [
       "9.209999999999999"
      ]
     },
     "execution_count": 10,
     "metadata": {},
     "output_type": "execute_result"
    }
   ],
   "source": [
    "result.get(timeout=1)"
   ]
  },
  {
   "cell_type": "markdown",
   "metadata": {},
   "source": [
    "### What if the task raises an exception?\n",
    "* __`get()`__ will re-raise the exception (unless you tell it not to)\n",
    "* let's try an example..."
   ]
  },
  {
   "cell_type": "code",
   "execution_count": null,
   "metadata": {
    "collapsed": true
   },
   "outputs": [],
   "source": [
    "@app.task\n",
    "def exc():\n",
    "    raise ValueError"
   ]
  },
  {
   "cell_type": "code",
   "execution_count": 12,
   "metadata": {
    "collapsed": false
   },
   "outputs": [
    {
     "name": "stdout",
     "output_type": "stream",
     "text": [
      "Task threw an exception:\n"
     ]
    }
   ],
   "source": [
    "from tasks import exc\n",
    "\n",
    "try:\n",
    "    result = exc.delay()\n",
    "    result.get()\n",
    "except:\n",
    "    print('Task threw an exception:')"
   ]
  },
  {
   "cell_type": "markdown",
   "metadata": {
    "slideshow": {
     "slide_type": "subslide"
    }
   },
   "source": [
    "### Lab: Celery\n",
    "* create a Celery task named __`write_file()`__ which takes two arguments, a filename and a string, and write the string to the file\n",
    "* create a second task named __`read_file()`__ which reads from a file\n",
    "  * if the file does not exist, it waits until the file exists (perhaps have it poll once a second)\n",
    "  * after a successful read, the task should delete the file\n",
    "* test your tasks\n",
    "* incorporate the task into a program which gets input from the user, and uses the tasks above to read and write data to a file (imagine that the files are on a remote system, even though that won't be the case for our lab)"
   ]
  },
  {
   "cell_type": "code",
   "execution_count": 13,
   "metadata": {
    "collapsed": false
   },
   "outputs": [
    {
     "data": {
      "text/plain": [
       "<AsyncResult: 206d7c38-9e26-44a2-9acd-58040bfd5b92>"
      ]
     },
     "execution_count": 13,
     "metadata": {},
     "output_type": "execute_result"
    }
   ],
   "source": [
    "from celery_lab import write_file\n",
    "\n",
    "write_file.delay('/tmp/test.txt', 'hello mr. celery')"
   ]
  }
 ],
 "metadata": {
  "celltoolbar": "Slideshow",
  "kernelspec": {
   "display_name": "Python 3",
   "language": "python",
   "name": "python3"
  },
  "language_info": {
   "codemirror_mode": {
    "name": "ipython",
    "version": 3
   },
   "file_extension": ".py",
   "mimetype": "text/x-python",
   "name": "python",
   "nbconvert_exporter": "python",
   "pygments_lexer": "ipython3",
   "version": "3.5.1"
  }
 },
 "nbformat": 4,
 "nbformat_minor": 1
}
